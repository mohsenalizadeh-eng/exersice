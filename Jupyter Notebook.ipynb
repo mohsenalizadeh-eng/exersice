{
 "cells": [
  {
   "cell_type": "markdown",
   "id": "5346f624-4e02-446d-b65a-d328ace79c11",
   "metadata": {},
   "source": [
    "# My Jupyter Notebook on IBM Watson Studio"
   ]
  },
  {
   "cell_type": "markdown",
   "id": "3e20f32c-e773-42e5-a6ec-65dd59ffec43",
   "metadata": {},
   "source": [
    "**mohsen alizadeh**\n",
    "\n",
    "MSc. Student in Railway Tracks Engineering"
   ]
  },
  {
   "cell_type": "markdown",
   "id": "fdd3dbe5-43ee-4494-9e5f-00fd856a8258",
   "metadata": {},
   "source": [
    "*I am interested in data science because it is a new science and is currently used in most sciences and even engineering. I want to expand its application in the field of railway maintenance in the future.*"
   ]
  },
  {
   "cell_type": "markdown",
   "id": "7e669e3d-abd7-4ca9-a95c-6c5cacb2789d",
   "metadata": {},
   "source": [
    "### My code shows the answer of the simple math operation 2+2."
   ]
  },
  {
   "cell_type": "code",
   "execution_count": 3,
   "id": "f008f9ee-067c-4880-b47d-2ce66b777830",
   "metadata": {},
   "outputs": [
    {
     "name": "stdout",
     "output_type": "stream",
     "text": [
      "4\n"
     ]
    }
   ],
   "source": [
    "print(2+2)"
   ]
  },
  {
   "cell_type": "markdown",
   "id": "9e8be408-d1a7-4839-b9a5-ef7efb081566",
   "metadata": {},
   "source": [
    "---\n",
    "var s = \"JavaScript syntax highlighting\";\n",
    "alert(s);\n",
    "---\n",
    "\n",
    "| Tables        | Are           | Cool  |\n",
    "| ------------- |:-------------:| -----:|\n",
    "| col 3 is      | right-aligned | $1600 |\n",
    "| col 2 is      | centered      |   $12 |\n",
    "| zebra stripes | are neat      |    $1 |\n",
    "\n",
    "---"
   ]
  },
  {
   "cell_type": "code",
   "execution_count": null,
   "id": "bd6923bd-6241-4463-8ef0-2105625c9ae2",
   "metadata": {},
   "outputs": [],
   "source": []
  }
 ],
 "metadata": {
  "kernelspec": {
   "display_name": "Python",
   "language": "python",
   "name": "conda-env-python-py"
  },
  "language_info": {
   "codemirror_mode": {
    "name": "ipython",
    "version": 3
   },
   "file_extension": ".py",
   "mimetype": "text/x-python",
   "name": "python",
   "nbconvert_exporter": "python",
   "pygments_lexer": "ipython3",
   "version": "3.7.12"
  }
 },
 "nbformat": 4,
 "nbformat_minor": 5
}
